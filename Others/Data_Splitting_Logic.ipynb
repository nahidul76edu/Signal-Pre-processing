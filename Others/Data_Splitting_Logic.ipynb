{
  "nbformat": 4,
  "nbformat_minor": 0,
  "metadata": {
    "colab": {
      "name": "Data Splitting Logic.ipynb",
      "provenance": [],
      "collapsed_sections": []
    },
    "kernelspec": {
      "name": "python3",
      "display_name": "Python 3"
    },
    "language_info": {
      "name": "python"
    }
  },
  "cells": [
    {
      "cell_type": "code",
      "metadata": {
        "id": "bTspHeC5T2IP"
      },
      "source": [
        "from keras.datasets import cifar10\n",
        "import numpy as np"
      ],
      "execution_count": null,
      "outputs": []
    },
    {
      "cell_type": "code",
      "metadata": {
        "id": "gXRPC977T-xD"
      },
      "source": [
        "(x_train, y_train), (x_test, y_test) = cifar10.load_data()"
      ],
      "execution_count": null,
      "outputs": []
    },
    {
      "cell_type": "code",
      "metadata": {
        "id": "ESPB0Ty6T-7Q"
      },
      "source": [
        "x_train = np.concatenate((x_train, x_test))\n",
        "y_train = np.concatenate((y_train, y_test))"
      ],
      "execution_count": null,
      "outputs": []
    },
    {
      "cell_type": "code",
      "metadata": {
        "id": "W5c84lq9UDZR"
      },
      "source": [
        "import numpy as np\n",
        "\n",
        "data_str=[]\n",
        "# Create a numpy array from a list of numbers\n",
        "arr = np.array(y_train)\n",
        "for i in range(10):\n",
        "  result = np.where(arr == i)\n",
        "  print(\"Outcome\", result[0], sep='\\n')\n",
        "  for j in result[0][0:10]:\n",
        "    data_str.append([x_train[j],i])\n",
        "\n",
        "np.save('Filename.npy',data_str)"
      ],
      "execution_count": null,
      "outputs": []
    }
  ]
}