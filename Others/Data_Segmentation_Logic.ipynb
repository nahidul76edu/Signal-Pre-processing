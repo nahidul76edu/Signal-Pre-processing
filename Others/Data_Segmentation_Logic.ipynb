{
  "nbformat": 4,
  "nbformat_minor": 0,
  "metadata": {
    "colab": {
      "name": "Data Segmentation Logic.ipynb",
      "provenance": [],
      "collapsed_sections": []
    },
    "kernelspec": {
      "name": "python3",
      "display_name": "Python 3"
    },
    "language_info": {
      "name": "python"
    }
  },
  "cells": [
    {
      "cell_type": "code",
      "metadata": {
        "id": "oWe8Vt9fYQDo"
      },
      "source": [
        "left = []\n",
        "for i in range(round(len(data_l)/1280)):\n",
        "   i=i*1280\n",
        "   class1=data_l.iloc[i:i+1280]\n",
        "   left.append([np.array(class1),np.array(1)])\n",
        "\n",
        "np.save('/content/drive/MyDrive/new_one/left.npy',left)"
      ],
      "execution_count": null,
      "outputs": []
    }
  ]
}