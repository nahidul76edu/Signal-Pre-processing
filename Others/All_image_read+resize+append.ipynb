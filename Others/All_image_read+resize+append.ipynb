{
  "nbformat": 4,
  "nbformat_minor": 0,
  "metadata": {
    "colab": {
      "name": "All image read+resize+append.ipynb",
      "provenance": [],
      "collapsed_sections": []
    },
    "kernelspec": {
      "name": "python3",
      "display_name": "Python 3"
    },
    "language_info": {
      "name": "python"
    }
  },
  "cells": [
    {
      "cell_type": "code",
      "metadata": {
        "id": "TUAesx8CYom4"
      },
      "source": [
        "healthy = []\n",
        "for img in glob.glob(\"/content/drive/MyDrive/Q1_DOCUMNETS/Images/stft_left/*.jpg\"):\n",
        "  im = Image.open(img)\n",
        "  img_res = im.resize((224, 224), Image.ANTIALIAS)\n",
        "  np_img = np.array(img_res)\n",
        "  healthy.append(np_img)"
      ],
      "execution_count": null,
      "outputs": []
    }
  ]
}