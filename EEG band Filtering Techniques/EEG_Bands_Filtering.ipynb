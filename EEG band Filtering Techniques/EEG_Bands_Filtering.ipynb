{
  "nbformat": 4,
  "nbformat_minor": 0,
  "metadata": {
    "colab": {
      "name": "EEG Bands Filtering.ipynb",
      "provenance": [],
      "collapsed_sections": []
    },
    "kernelspec": {
      "name": "python3",
      "display_name": "Python 3"
    },
    "language_info": {
      "name": "python"
    }
  },
  "cells": [
    {
      "cell_type": "code",
      "metadata": {
        "id": "N178cpymQahI"
      },
      "source": [
        "import numpy as np\n",
        "import pandas as pd"
      ],
      "execution_count": null,
      "outputs": []
    },
    {
      "cell_type": "code",
      "metadata": {
        "id": "AyQtv6NmQsji"
      },
      "source": [
        "data = pd.read_csv(\"/content/drive/MyDrive/#My Python Code#/OTHERS/raw_data_7.csv\")"
      ],
      "execution_count": null,
      "outputs": []
    },
    {
      "cell_type": "code",
      "metadata": {
        "id": "Ms6Xi42PUjyR",
        "colab": {
          "base_uri": "https://localhost:8080/",
          "height": 326
        },
        "outputId": "dde5223a-0b6a-41cf-a321-22eb7dfa2fa9"
      },
      "source": [
        "fs = 512       # Sampling rate (512 Hz)\n",
        "\n",
        "# Get real amplitudes of FFT (only in postive frequencies)\n",
        "fft_vals = np.absolute(np.fft.rfft(data))\n",
        "\n",
        "# Get frequencies for amplitudes in Hz\n",
        "fft_freq = np.fft.rfftfreq(len(data), 1.0/fs)\n",
        "\n",
        "# Define EEG bands\n",
        "eeg_bands = {'Delta': (0, 4),\n",
        "             'Theta': (4, 8),\n",
        "             'Alpha': (8, 12),\n",
        "             'Beta': (12, 30),\n",
        "             'Gamma': (30, 45)}\n",
        "\n",
        "# Take the mean of the fft amplitude for each EEG band\n",
        "eeg_band_fft = dict()\n",
        "for band in eeg_bands:  \n",
        "    freq_ix = np.where((fft_freq >= eeg_bands[band][0]) & \n",
        "                       (fft_freq <= eeg_bands[band][1]))[0]\n",
        "    eeg_band_fft[band] = np.mean(fft_vals[freq_ix])\n",
        "\n",
        "# Plot the data (using pandas here cause it's easy)\n",
        "import pandas as pd\n",
        "df = pd.DataFrame(columns=['band', 'val'])\n",
        "df['band'] = eeg_bands.keys()\n",
        "df['val'] = [eeg_band_fft[band] for band in eeg_bands]\n",
        "ax = df.plot.bar(x='band', y='val', legend=False)\n",
        "ax.set_xlabel(\"EEG band\")\n",
        "ax.set_ylabel(\"Mean band Amplitude\")"
      ],
      "execution_count": null,
      "outputs": [
        {
          "output_type": "execute_result",
          "data": {
            "text/plain": [
              "Text(0, 0.5, 'Mean band Amplitude')"
            ]
          },
          "metadata": {
            "tags": []
          },
          "execution_count": 49
        },
        {
          "output_type": "display_data",
          "data": {
            "image/png": "[encoded data removed]",
            "text/plain": [
              "<Figure size 432x288 with 1 Axes>"
            ]
          },
          "metadata": {
            "tags": [],
            "needs_background": "light"
          }
        }
      ]
    },
    {
      "cell_type": "code",
      "metadata": {
        "id": "FR-kxg3bX_wa"
      },
      "source": [
        ""
      ],
      "execution_count": null,
      "outputs": []
    },
    {
      "cell_type": "code",
      "metadata": {
        "colab": {
          "base_uri": "https://localhost:8080/",
          "height": 315
        },
        "id": "r-SXm7hgQ5b1",
        "outputId": "1ffa0386-a77d-413c-d7c3-c44e648a6c6e"
      },
      "source": [
        "import matplotlib.pyplot as plt\n",
        "\n",
        "fs = 512       # Sampling rate (512 Hz)\n",
        "\n",
        "\n",
        "# Get real amplitudes of FFT (only in postive frequencies)\n",
        "fft_vals = np.absolute(np.fft.rfft(data))\n",
        "\n",
        "# Get frequencies for amplitudes in Hz\n",
        "fft_freq = np.fft.rfftfreq(len(data), 1.0/fs)\n",
        "\n",
        "#x = [1, 2, 3, 4, 5, 6, 7, 8, 9, 10, 11, 12, 13, 14, 15]\n",
        "\n",
        "# Define EEG bands\n",
        "eeg_bands = {'Alpha': (8, 13)}\n",
        "\n",
        "# Take the mean of the fft amplitude for each EEG band\n",
        "eeg_band_fft = dict()\n",
        "for band in eeg_bands:  \n",
        "    freq_ix = np.where((fft_freq >= eeg_bands[band][0]) & \n",
        "                       (fft_freq <= eeg_bands[band][1]))[0]\n",
        "    eeg_band_fft[band] = np.mean(fft_vals[freq_ix])\n",
        "\n",
        "# Plot the data (using pandas here cause it's easy)\n",
        "import pandas as pd\n",
        "\n",
        "#plt.figure(figsize=(7,5))\n",
        "\n",
        "#p1,= plt.plot(x, InceptionResNetV2_accuracy,  marker=\"o\", label='InceptionResNetV2',  linewidth=2, markersize=8, color='#7F1D1D')\n",
        "\n",
        "df = pd.DataFrame(columns=['band', 'val'])\n",
        "df['band'] = eeg_bands.keys()\n",
        "df['val'] = [eeg_band_fft[band] for band in eeg_bands]\n",
        "ax = df.plot.bar(x='band', y='val', legend=False)\n",
        "ax.set_xlabel(\"EEG band\")\n",
        "ax.set_ylabel(\"Mean band Amplitude\")"
      ],
      "execution_count": null,
      "outputs": [
        {
          "output_type": "execute_result",
          "data": {
            "text/plain": [
              "Text(0, 0.5, 'Mean band Amplitude')"
            ]
          },
          "metadata": {
            "tags": []
          },
          "execution_count": 50
        },
        {
          "output_type": "display_data",
          "data": {
            "image/png": "[encoded data removed]",
            "text/plain": [
              "<Figure size 432x288 with 1 Axes>"
            ]
          },
          "metadata": {
            "tags": [],
            "needs_background": "light"
          }
        }
      ]
    },
    {
      "cell_type": "code",
      "metadata": {
        "colab": {
          "base_uri": "https://localhost:8080/",
          "height": 309
        },
        "id": "XXt-XM5DYKq_",
        "outputId": "2faea5b1-2647-49f6-e6e5-72bc154d6897"
      },
      "source": [
        "import matplotlib.pyplot as plt\n",
        "\n",
        "fs = 512       # Sampling rate (512 Hz)\n",
        "\n",
        "\n",
        "# Get real amplitudes of FFT (only in postive frequencies)\n",
        "fft_vals = np.absolute(np.fft.rfft(data))\n",
        "\n",
        "# Get frequencies for amplitudes in Hz\n",
        "fft_freq = np.fft.rfftfreq(len(data), 1.0/fs)\n",
        "\n",
        "# Define EEG bands\n",
        "eeg_bands = {'Beta': (12, 30)}\n",
        "\n",
        "# Take the mean of the fft amplitude for each EEG band\n",
        "eeg_band_fft = dict()\n",
        "for band in eeg_bands:  \n",
        "    freq_ix = np.where((fft_freq >= eeg_bands[band][0]) & \n",
        "                       (fft_freq <= eeg_bands[band][1]))[0]\n",
        "    eeg_band_fft[band] = np.mean(fft_vals[freq_ix])\n",
        "\n",
        "# Plot the data (using pandas here cause it's easy)\n",
        "import pandas as pd\n",
        "\n",
        "\n",
        "df = pd.DataFrame(columns=['band', 'val'])\n",
        "df['band'] = eeg_bands.keys()\n",
        "df['val'] = [eeg_band_fft[band] for band in eeg_bands]\n",
        "ax = df.plot.bar(x='band', y='val', legend=False)\n",
        "ax.set_xlabel(\"EEG band\")\n",
        "ax.set_ylabel(\"Mean band Amplitude\")"
      ],
      "execution_count": null,
      "outputs": [
        {
          "output_type": "execute_result",
          "data": {
            "text/plain": [
              "Text(0, 0.5, 'Mean band Amplitude')"
            ]
          },
          "metadata": {
            "tags": []
          },
          "execution_count": 47
        },
        {
          "output_type": "display_data",
          "data": {
            "image/png": "[encoded data removed]",
            "text/plain": [
              "<Figure size 432x288 with 1 Axes>"
            ]
          },
          "metadata": {
            "tags": [],
            "needs_background": "light"
          }
        }
      ]
    },
    {
      "cell_type": "code",
      "metadata": {
        "id": "4FOj3txkVuwI"
      },
      "source": [
        "for i in np.arange(7):\n",
        "    alpha1 = butter_bandpass_filter(fft1[i, :], 8.1, 12.0, 256)\n",
        "    beta1 = butter_bandpass_filter(fft1[i, :], 16.0, 36.0, 256)\n",
        "    gamma1 = butter_bandpass_filter(fft1[i, :], 36.1, 80, 256)\n",
        "    delta1 = butter_bandpass_filter(fft1[i, :], 0.0, 4.0, 256)\n",
        "    sigma1 = butter_bandpass_filter(fft1[i, :], 12.1, 16.0, 256)\n",
        "    theta1 = butter_bandpass_filter(fft1[i, :], 4.1, 8.0, 256)\n",
        "    sumalpha1 = sum(abs(alpha1))\n",
        "    sumbeta1 = sum(abs(beta1))\n",
        "    sumgamma1 = sum(abs(gamma1))\n",
        "    sumdelta1 = sum(abs(delta1))\n",
        "    sumsigma1 = sum(abs(sigma1))\n",
        "    sumtheta1 = sum(abs(theta1))\n",
        "    objects = [sumalpha1, sumbeta1, sumgamma1, sumdelta1, sumsigma1, sumtheta1]\n",
        "    N = len(objects)\n",
        "    ra = range(N)\n",
        "    plt.title(signal_labels[i])\n",
        "    plt.autoscale\n",
        "    somestuffneeded = np.arange(6)\n",
        "    ticks = ['alpha','beta','gamma','delta','sigma','theta']\n",
        "    plt.xticks(somestuffneeded, ticks)\n",
        "    plt.bar(ra, objects)\n",
        "    plt.show()"
      ],
      "execution_count": null,
      "outputs": []
    }
  ]
}