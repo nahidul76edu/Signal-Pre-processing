{
  "nbformat": 4,
  "nbformat_minor": 0,
  "metadata": {
    "colab": {
      "name": "FFT Feature Raw Code.ipynb",
      "provenance": [],
      "collapsed_sections": []
    },
    "kernelspec": {
      "name": "python3",
      "display_name": "Python 3"
    },
    "language_info": {
      "name": "python"
    }
  },
  "cells": [
    {
      "cell_type": "code",
      "metadata": {
        "id": "hCgOy2hAgrhH"
      },
      "source": [
        "import numpy as np\n",
        "import cmath\n",
        "import math"
      ],
      "execution_count": null,
      "outputs": []
    },
    {
      "cell_type": "code",
      "metadata": {
        "id": "BwCx-U76giZ4"
      },
      "source": [
        "x = [1,2,3,4] #dataset\n",
        "\n",
        "def ours_fft(x):  #RAW_ftt_function\n",
        "  for k in range(len(x)):\n",
        "    sum = 0\n",
        "    sum_j = 0\n",
        "    for n in range(len(x)):\n",
        "        fft_data = (x[n]*(math.cos(math.radians((2*180*k*n)/len(x)))))\n",
        "        fft_data_j = (x[n]*(math.sin(math.radians((2*180*k*n)/len(x)))))\n",
        "        sum = sum+fft_data\n",
        "        sum_j = sum_j+fft_data_j\n",
        "\n",
        "    final_fft=sum - cmath.sqrt(-1)*sum_j\n",
        "    print(final_fft)"
      ],
      "execution_count": null,
      "outputs": []
    },
    {
      "cell_type": "code",
      "metadata": {
        "id": "e3d7lVQmj6CP"
      },
      "source": [
        "ours_fft(x)"
      ],
      "execution_count": null,
      "outputs": []
    }
  ]
}